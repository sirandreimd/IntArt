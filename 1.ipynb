{
 "cells": [
  {
   "cell_type": "code",
   "execution_count": null,
   "id": "989df0b3",
   "metadata": {},
   "outputs": [],
   "source": [
    "#citim date pentru a,b,c și calc. soluțiile ecuației de gr. II\n",
    "a=int(input('a='))\n",
    "b=int(input('b='))\n",
    "c=int(input('c='))\n",
    "d=b**2-4*a*c\n",
    "import math\n",
    "if d>0:\n",
    "    x1=-(b-math.sqrt(d))/(2*a)\n",
    "    x2=-(b+math.sqrt(d))/(2*a)\n",
    "    print('x1= ', x1, ' x2= ', x2)\n",
    "elif d==0:\n",
    "    x1=x2=-b/(2*a)\n",
    "    print('x1=x2= ',x1)\n",
    "else:\n",
    "    print('Ecuația nu are soluții')"
   ]
  },
  {
   "cell_type": "code",
   "execution_count": 16,
   "id": "3f1882b8",
   "metadata": {},
   "outputs": [
    {
     "name": "stdout",
     "output_type": "stream",
     "text": [
      "x1=1\n",
      "y1=1\n",
      "x2=3\n",
      "y2=4\n",
      "dp=  3.605551275463989\n"
     ]
    }
   ],
   "source": [
    "#distanta dintre doua puncte\n",
    "x1=int(input('x1='))\n",
    "y1=int(input('y1='))\n",
    "x2=int(input('x2='))\n",
    "y2=int(input('y2='))\n",
    "dp=math.sqrt((x1-x2)**2+(y1-y2)**2)\n",
    "print('dp= ',dp)"
   ]
  },
  {
   "cell_type": "code",
   "execution_count": null,
   "id": "dc34034a",
   "metadata": {},
   "outputs": [],
   "source": []
  },
  {
   "cell_type": "code",
   "execution_count": null,
   "id": "aedad7af",
   "metadata": {},
   "outputs": [],
   "source": []
  },
  {
   "cell_type": "code",
   "execution_count": null,
   "id": "dc8d9e35",
   "metadata": {},
   "outputs": [],
   "source": []
  }
 ],
 "metadata": {
  "kernelspec": {
   "display_name": "Python 3 (ipykernel)",
   "language": "python",
   "name": "python3"
  },
  "language_info": {
   "codemirror_mode": {
    "name": "ipython",
    "version": 3
   },
   "file_extension": ".py",
   "mimetype": "text/x-python",
   "name": "python",
   "nbconvert_exporter": "python",
   "pygments_lexer": "ipython3",
   "version": "3.7.9"
  }
 },
 "nbformat": 4,
 "nbformat_minor": 5
}
